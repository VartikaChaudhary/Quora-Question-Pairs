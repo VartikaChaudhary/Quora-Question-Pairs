{
 "cells": [
  {
   "cell_type": "code",
   "execution_count": 30,
   "metadata": {},
   "outputs": [],
   "source": [
    "import numpy as np\n",
    "import pandas as pd\n",
    "import joblib\n",
    "import xgboost as xgb\n",
    "import lightgbm as lgb\n",
    "from catboost import CatBoostRegressor\n",
    "import warnings\n",
    "warnings.filterwarnings(\"ignore\")\n",
    "import sys\n",
    "sys.path.append('C:\\\\Users\\\\Peace\\\\Documents\\\\Project\\\\Final\\\\')\n",
    "import features"
   ]
  },
  {
   "cell_type": "code",
   "execution_count": 31,
   "metadata": {},
   "outputs": [],
   "source": [
    "path = \"C:\\\\Users\\\\Peace\\\\Documents\\\\Project\\\\Final\\\\\""
   ]
  },
  {
   "cell_type": "code",
   "execution_count": 32,
   "metadata": {},
   "outputs": [
    {
     "name": "stdout",
     "output_type": "stream",
     "text": [
      "Welcome user! \n",
      "\n"
     ]
    }
   ],
   "source": [
    "# %%\n",
    "\n",
    "print(\"Welcome user! \\n\")"
   ]
  },
  {
   "cell_type": "code",
   "execution_count": 33,
   "metadata": {},
   "outputs": [],
   "source": [
    "def ask():\n",
    "    ques = pd.DataFrame({'question1':[''],\n",
    "                        'question2':['']})    \n",
    "    ques.loc[0, 'question1'] = input(\"Enter your first question: \")\n",
    "    ques.loc[0, 'question2'] = input(\"Enter your second question: \")\n",
    "    \n",
    "    return ques"
   ]
  },
  {
   "cell_type": "code",
   "execution_count": 34,
   "metadata": {},
   "outputs": [],
   "source": [
    "def model():    \n",
    "    print(\"Choose a model to get the result\")\n",
    "    print(\"1. XG Boost\")\n",
    "    print(\"2. LG Boost\")\n",
    "    print(\"3. CAT Boost (Best model as per test results)\")\n",
    "    \n",
    "    choice = int(input())\n",
    "    \n",
    "    if choice != 1 and choice != 2 and choice != 3:\n",
    "        print(\"Wrong model choice!\")\n",
    "        return -1\n",
    "    return choice"
   ]
  },
  {
   "cell_type": "code",
   "execution_count": 35,
   "metadata": {},
   "outputs": [],
   "source": [
    "def make_features(ques):\n",
    "    x_test = pd.DataFrame()\n",
    "    x_test[\"X1\"] = ques.apply(features.word_match_share, axis=1, raw=True)\n",
    "    x_test[\"X2\"] = ques.apply(features.tfidf_word_match_share, axis=1, raw=True)\n",
    "    x_test[\"X3\"] = pd.DataFrame(features.common_words_count(ques))\n",
    "    X4, X5 = features.fuzz_sort_set(ques)\n",
    "    x_test[\"X4\"] = X4\n",
    "    x_test[\"X5\"] = X5\n",
    "    return x_test"
   ]
  },
  {
   "cell_type": "code",
   "execution_count": 36,
   "metadata": {},
   "outputs": [
    {
     "name": "stdout",
     "output_type": "stream",
     "text": [
      "Enter your first question: kohinoor\n",
      "Enter your second question: kohinoor\n",
      "Choose a model to get the result\n",
      "1. XG Boost\n",
      "2. LG Boost\n",
      "3. CAT Boost (Best model as per test results)\n",
      "1\n",
      "Both the questions have  72.74 % similar intent\n",
      "Do you want to try again with new question set? y/n: n\n"
     ]
    }
   ],
   "source": [
    "out = 0\n",
    "while(1):\n",
    "    ques = ask()\n",
    "    x_test = make_features(ques)    \n",
    "    \n",
    "    while(1):\n",
    "        model_choice = model()        \n",
    "        if model_choice != -1:\n",
    "                if model_choice == 1:\n",
    "                    XG = joblib.load(path + \"XGboostModel.sav\")\n",
    "                    print(\"Both the questions have \", np.round(XG.predict(xgb.DMatrix(x_test)) * 100,2)[0],\n",
    "                          \"% similar intent\")\n",
    "                    break\n",
    "                elif model_choice == 2:\n",
    "                    LG = joblib.load(path + \"LGboostModel.sav\")\n",
    "                    print(\"Both the questions have \", \n",
    "                          np.round(np.expm1(LG.predict(x_test, num_iteration=LG.best_iteration)) * 100,2)[0],\n",
    "                          \"% similar intent\")\n",
    "                    break\n",
    "                elif model_choice == 3:\n",
    "                    CAT = joblib.load(path + \"CATboostModel.sav\")\n",
    "                    print(\"Both the questions have \", \n",
    "                          np.round(np.expm1(CAT.predict(x_test)) * 100,2)[0],\n",
    "                          \"% similar intent\")\n",
    "                    break\n",
    "    val = input(\"Do you want to try again with new question set? y/n: \")\n",
    "    if val == 'n':\n",
    "        break"
   ]
  },
  {
   "cell_type": "code",
   "execution_count": null,
   "metadata": {},
   "outputs": [],
   "source": []
  }
 ],
 "metadata": {
  "kernelspec": {
   "display_name": "Python 3",
   "language": "python",
   "name": "python3"
  },
  "language_info": {
   "codemirror_mode": {
    "name": "ipython",
    "version": 3
   },
   "file_extension": ".py",
   "mimetype": "text/x-python",
   "name": "python",
   "nbconvert_exporter": "python",
   "pygments_lexer": "ipython3",
   "version": "3.7.3"
  }
 },
 "nbformat": 4,
 "nbformat_minor": 2
}
